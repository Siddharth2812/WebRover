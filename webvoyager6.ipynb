{
 "cells": [
  {
   "cell_type": "code",
   "execution_count": 2,
   "metadata": {},
   "outputs": [],
   "source": [
    "from dotenv import load_dotenv\n",
    "from langchain_openai import ChatOpenAI\n",
    "import os\n",
    "\n",
    "load_dotenv()\n",
    "def set_env_vars(var):\n",
    "    os.environ[var] = os.getenv(var)\n",
    "\n",
    "\n",
    "vars = [\"OPENAI_API_KEY\", \"LANGCHAIN_API_KEY\", \"LANGCHAIN_TRACING_V2\", \"LANGCHAIN_ENDPOINT\", \"LANGCHAIN_PROJECT\", \"TAVILY_API_KEY\"]\n",
    "\n",
    "for var in vars:\n",
    "    set_env_vars(var)\n",
    "\n",
    "llm = ChatOpenAI(model=\"gpt-4o\", temperature=0)\n",
    "\n",
    "import nest_asyncio\n",
    "nest_asyncio.apply()"
   ]
  },
  {
   "cell_type": "markdown",
   "metadata": {},
   "source": [
    "# State Definition"
   ]
  },
  {
   "cell_type": "code",
   "execution_count": 74,
   "metadata": {},
   "outputs": [],
   "source": [
    "from typing import TypedDict, List, Annotated\n",
    "from playwright.async_api import Page\n",
    "from langchain_core.messages import BaseMessage\n",
    "from operator import add\n",
    "\n",
    "class Bbox(TypedDict):\n",
    "    x: int\n",
    "    y: int\n",
    "    text: str\n",
    "    type: str\n",
    "    ariaLabel: str\n",
    "\n",
    "class Action(TypedDict):\n",
    "    action: str\n",
    "    args: str | Bbox\n",
    "\n",
    "class AgentState(TypedDict):\n",
    "    input: str\n",
    "    page: Page\n",
    "    image: str\n",
    "    bboxes: List[Bbox]\n",
    "    updated_notes: List[BaseMessage]\n",
    "    action: Action | str\n"
   ]
  },
  {
   "cell_type": "markdown",
   "metadata": {},
   "source": [
    "# ScreenShot and Annotation Helper Functions"
   ]
  },
  {
   "cell_type": "code",
   "execution_count": 75,
   "metadata": {},
   "outputs": [],
   "source": [
    "import base64\n",
    "import asyncio\n",
    "from playwright.async_api import async_playwright\n",
    "import asyncio\n",
    "from PIL import Image as PILImage\n",
    "import io\n",
    "from playwright.async_api import Page\n",
    "\n",
    "\n",
    "with open(\"mark_page.js\") as f:\n",
    "    mark_page_script = f.read()\n",
    "\n",
    "async def is_image_blank(image_bytes: bytes) -> bool:\n",
    "    \"\"\"Return True if the screenshot is fully blank (e.g. all white), else False.\"\"\"\n",
    "    if not image_bytes:\n",
    "        return True\n",
    "    img = PILImage.open(io.BytesIO(image_bytes)).convert(\"L\")\n",
    "    # If getbbox() returns None, the image is entirely one color\n",
    "    return img.getbbox() is None\n",
    "\n",
    "async def capture_screenshot(page: Page, max_retries=3, wait_seconds=2) -> bytes:\n",
    "    \"\"\"Take a screenshot, retry if blank (completely white).\"\"\"\n",
    "    screenshot_bytes = b\"\"\n",
    "    for attempt in range(max_retries):\n",
    "        # Wait for the page to be fully loaded\n",
    "        await page.wait_for_load_state(\"networkidle\")\n",
    "        \n",
    "        # Take screenshot\n",
    "        screenshot_bytes = await page.screenshot(path=\"screenshot.png\")\n",
    "        \n",
    "        # Check if it's blank\n",
    "        if not await is_image_blank(screenshot_bytes):\n",
    "            return screenshot_bytes\n",
    "        \n",
    "        # If blank, wait a bit and retry\n",
    "        print(f\"[capture_screenshot] Screenshot is blank (attempt {attempt+1}/{max_retries}). Retrying...\")\n",
    "        await asyncio.sleep(wait_seconds)\n",
    "    \n",
    "    # If we get here, all attempts yielded a blank screenshot\n",
    "    print(\"[capture_screenshot] All screenshot attempts were blank.\")\n",
    "    return screenshot_bytes  # Return whatever we got last\n",
    "\n",
    "\n",
    "async def mark_page(page):\n",
    "\n",
    "    \"\"\"\n",
    "    1. Wait for the page to be loaded using 'networkidle'.\n",
    "    2. Attempt to run a 'mark_page_script' that presumably marks and returns bounding boxes.\n",
    "    3. Retry up to 10 times if it fails.\n",
    "    4. Capture a screenshot with retry logic (up to 3 tries) if the page is blank.\n",
    "    5. Process screenshot (grayscale, resize, quantize, compress).\n",
    "    6. Remove the markings before returning.\n",
    "    \"\"\"\n",
    "\n",
    "    bboxes = []\n",
    "\n",
    "    for attempt in range (3):\n",
    "        try: \n",
    "            await page.wait_for_load_state(\"networkidle\")\n",
    "\n",
    "            await page.evaluate(mark_page_script)\n",
    "            bboxes = await page.evaluate(\"markPage()\")\n",
    "            break\n",
    "        except Exception as e:\n",
    "            print(f\"[mark_page] Attempt {attempt+1}/3 failed to mark page: {e}\")\n",
    "            await asyncio.sleep(3)\n",
    "    # Get screenshot as bytes\n",
    "    await page.wait_for_load_state(\"networkidle\")\n",
    "    screenshot_bytes = await capture_screenshot(page, max_retries=3)\n",
    "    \n",
    "    # Process screenshot if we have any bytes\n",
    "    if screenshot_bytes:\n",
    "        img = PILImage.open(io.BytesIO(screenshot_bytes))\n",
    "        # Convert to grayscale\n",
    "        img = img.convert('L')\n",
    "        # Resize\n",
    "        max_size = (300, 300)\n",
    "        img.thumbnail(max_size, PILImage.Resampling.LANCZOS)\n",
    "        # Quantize and convert back to grayscale\n",
    "        img = img.quantize(colors=16).convert('L')\n",
    "        \n",
    "        # Compress\n",
    "        buffer = io.BytesIO()\n",
    "        img.save(\n",
    "            buffer,\n",
    "            format='JPEG',\n",
    "            quality=5,      # Low quality -> smaller size\n",
    "            optimize=True,\n",
    "            progressive=True\n",
    "        )\n",
    "        compressed_bytes = buffer.getvalue()\n",
    "    else:\n",
    "        # If screenshot is empty or never taken, handle gracefully\n",
    "        print(\"[mark_page] Using empty screenshot due to failure or blank screenshot.\")\n",
    "        compressed_bytes = b\"\"\n",
    "\n",
    "    await page.wait_for_load_state(\"networkidle\")\n",
    "    try:\n",
    "        await page.evaluate(\"unmarkPage()\")\n",
    "    except Exception as e:\n",
    "        print(f\"[mark_page] Could not unmark page: {e}\")\n",
    "\n",
    "    # Build final result\n",
    "    return {\n",
    "        \"image\": base64.b64encode(compressed_bytes).decode(\"utf-8\"),\n",
    "        \"bboxes\": bboxes\n",
    "    }"
   ]
  },
  {
   "cell_type": "markdown",
   "metadata": {},
   "source": [
    "# Browser setup"
   ]
  },
  {
   "cell_type": "code",
   "execution_count": 76,
   "metadata": {},
   "outputs": [],
   "source": [
    "async def setup_browser(go_to_page: str):\n",
    "    playwright = await async_playwright().start()\n",
    "    browser = await playwright.chromium.launch(headless=False)\n",
    "    page = await browser.new_page()\n",
    "    try:\n",
    "        # Increase timeout to 80 seconds and add wait_until option\n",
    "        await page.goto(go_to_page, timeout=80000, wait_until=\"domcontentloaded\")\n",
    "    except Exception as e:\n",
    "        print(f\"Error loading page: {e}\")\n",
    "        # Fallback to Google if the original page fails to load\n",
    "        await page.goto(\"https://www.google.com\", timeout=60000, wait_until=\"domcontentloaded\")\n",
    "    return playwright, browser, page"
   ]
  },
  {
   "cell_type": "markdown",
   "metadata": {},
   "source": [
    "# Page annotation node"
   ]
  },
  {
   "cell_type": "code",
   "execution_count": 77,
   "metadata": {},
   "outputs": [],
   "source": [
    "from pprint import pprint\n",
    "async def annotate_page(state: AgentState):\n",
    "    page = state[\"page\"]\n",
    "    result = await mark_page(page)\n",
    "    print(\"***************ANNOTATE_PAGE***************\\n\")\n",
    "    pprint(state)\n",
    "    print(\"***************ANNOTATE_PAGE_DONE***************\\n\")\n",
    "    return {\"image\": result[\"image\"], \"bboxes\": result[\"bboxes\"]}\n",
    "\n",
    "\n"
   ]
  },
  {
   "cell_type": "markdown",
   "metadata": {},
   "source": []
  },
  {
   "cell_type": "markdown",
   "metadata": {},
   "source": [
    "# Prompt Definition and LLM Call Node"
   ]
  },
  {
   "cell_type": "code",
   "execution_count": 78,
   "metadata": {},
   "outputs": [],
   "source": [
    "from langchain_core.prompts import ChatPromptTemplate\n",
    "\n",
    "async def llm_call_node(state: AgentState) -> AgentState:   \n",
    "\n",
    "    print(\"***************PROMPT_DEFINITION***************\\n\")\n",
    "    template = \"\"\"You are a web-browsing robot. You see a webpage with various labeled bounding boxes. \n",
    "    Each bounding box has a **Numerical Label** in the top-left corner, which identifies an interactive element. \n",
    "\n",
    "    Your goal is to handle the **User's Input** by analyzing the webpage's bounding boxes and deciding on **one** of the \n",
    "    following Actions to perform **per iteration**:\n",
    "\n",
    "    1. Click a Web Element.\n",
    "    2. Delete existing content in a textbox and then type content.\n",
    "    3. Scroll up or down.\n",
    "    4. Wait \n",
    "    5. Go back\n",
    "    7. Return to google to start over.\n",
    "    8. Respond with the final answer\n",
    "\n",
    "    **Important Guidelines**:\n",
    "    1. **Close popups** if they appear by clicking on the bounding box for the \"close\" button.  \n",
    "    2. If the User wants to search something (like \"NVIDIA Stock forecast\"), you should **Type** the query into the Google \n",
    "    search bar bounding box.  \n",
    "    3. Do **not** use \"Bing\" unless explicitly instructed.  \n",
    "    4. If you must produce a final answer (e.g., if the user says \"Please give me the final answer now\"), use \n",
    "    **ANSWER; [content]**.  \n",
    "    5. Properly define the concise search query or terms you need to type in search bar or any input field.\n",
    "\n",
    "    **Action Format** must be exactly one of:\n",
    "    - `Click [Numerical_Label]`\n",
    "    - `Type [Numerical_Label]; [Content]`\n",
    "    - `Scroll [Numerical_Label or WINDOW]; [up or down]`\n",
    "    - `Wait`\n",
    "    - `GoBack`\n",
    "    - `ANSWER; [content]`\n",
    "\n",
    "    ### Example\n",
    "\n",
    "    If the user says \"NVIDIA Stock forecast,\" and the bounding box for the Google search bar is labeled 2, you might respond:\n",
    "\n",
    "    Thought: The user wants me to search for NVIDIA Stock forecast in Google. Action: Type [2]; NVIDIA Stock forecast\n",
    "\n",
    "\n",
    "    -----\n",
    "\n",
    "    **Now, here is the format of your output to the user**:\n",
    "    1. Thought: a short text describing your reasoning about the next action.\\\\n\n",
    "    2. Action: the single action you decide to take, in one of the required formats above.\n",
    "\n",
    "    -----\n",
    "\n",
    "    Observation (the screenshot, bounding boxes, etc.): {{result}}\"\"\"\n",
    "\n",
    "    prompt = ChatPromptTemplate(\n",
    "        messages=[\n",
    "            (\"system\", template),\n",
    "            (\"placeholder\", \"{updated_notes}\"),\n",
    "            (\"human\", \"Image: {image}\"),\n",
    "            (\"human\", \"Bounding Boxes: {bboxes}\"),\n",
    "            (\"human\", \"Input: {input}\")\n",
    "        ],\n",
    "        input_variables=[\"image\", \"bboxes\", \"input\"],\n",
    "        partial_variables={\"updated_notes\": []},\n",
    "        optional_variables=[\"updated_notes\"]\n",
    "    )\n",
    "    \n",
    "    \n",
    "\n",
    "    updated_notes = state.get(\"updated_notes\", [])\n",
    "    image = state[\"image\"]\n",
    "    bboxes = state[\"bboxes\"]\n",
    "    input = state[\"input\"]\n",
    "\n",
    "    prompt_value = prompt.invoke({\"updated_notes\": updated_notes, \"image\": image, \"bboxes\": bboxes, \"input\": input})\n",
    "    \n",
    "    llm = ChatOpenAI(model=\"gpt-4o-mini\", max_tokens =4096, temperature=0)\n",
    "    response = llm.invoke(prompt_value)\n",
    "\n",
    "    action = response.content\n",
    "    \n",
    "    pprint(state)\n",
    "    print(\"***************LLM_CALL_NODE_DONE***************\\n\")\n",
    "\n",
    "    return {\"action\": action}\n",
    "\n",
    "\n",
    "\n"
   ]
  },
  {
   "cell_type": "markdown",
   "metadata": {},
   "source": [
    "## Parse Action"
   ]
  },
  {
   "cell_type": "code",
   "execution_count": 79,
   "metadata": {},
   "outputs": [],
   "source": [
    "async def parse_action_node(state: AgentState):\n",
    "    print(\"***************PARSE_ACTION_NODE***************\\n\")\n",
    "    action_prefix = \"Action: \"\n",
    "    text = state[\"action\"]\n",
    "    if not text.strip().split(\"Action:\")[-1]:\n",
    "        return {\"action\": \"retry\", \"args\": f\"Could not parse LLM Output: {text}\"}\n",
    "    action_block = text.strip().split(\"Action: \")[-1]\n",
    "    split_output = action_block.split(\"; \", 1)\n",
    "    if len(split_output) == 1:\n",
    "        action, args = split_output[0], None\n",
    "    else:\n",
    "        action, args = split_output\n",
    "    pprint(state)\n",
    "    print(\"***************PARSE_ACTION_NODE_DONE***************\\n\")\n",
    "    return {\"action\": Action(action=action, args=args)}\n"
   ]
  },
  {
   "cell_type": "code",
   "execution_count": 80,
   "metadata": {},
   "outputs": [
    {
     "data": {
      "image/png": "[encoded data removed]",
      "text/plain": [
       "<IPython.core.display.Image object>"
      ]
     },
     "metadata": {},
     "output_type": "display_data"
    }
   ],
   "source": [
    "from langgraph.graph import StateGraph, START, END\n",
    "from IPython.display import Image, display\n",
    "\n",
    "builder = StateGraph(AgentState)\n",
    "\n",
    "builder.add_node(\"annotate_page\", annotate_page)\n",
    "builder.add_node(\"llm_call\", llm_call_node)\n",
    "builder.add_node(\"parse_action\", parse_action_node)\n",
    "\n",
    "builder.add_edge(START, \"annotate_page\")\n",
    "builder.add_edge(\"annotate_page\", \"llm_call\")\n",
    "builder.add_edge(\"llm_call\", \"parse_action\")\n",
    "builder.add_edge(\"parse_action\", END)\n",
    "\n",
    "sub_agent_graph = builder.compile()\n",
    "\n",
    "display(Image(sub_agent_graph.get_graph().draw_mermaid_png()))\n"
   ]
  },
  {
   "cell_type": "code",
   "execution_count": null,
   "metadata": {},
   "outputs": [],
   "source": [
    "result = await setup_browser(\"https://arxiv.org/pdf/1706.03762\")\n",
    "playwright, browser, page = result\n"
   ]
  },
  {
   "cell_type": "code",
   "execution_count": null,
   "metadata": {},
   "outputs": [],
   "source": [
    "input = \"Scroll through the pdf and find the section on the Transformer architecture\"\n",
    "\n",
    "state = AgentState(page=page, input=input)\n",
    "\n",
    "result = await sub_agent_graph.ainvoke(state)\n",
    "result"
   ]
  },
  {
   "cell_type": "code",
   "execution_count": 118,
   "metadata": {},
   "outputs": [
    {
     "data": {
      "text/plain": [
       "{'input': 'Look for the actual Attention is all you need paper and write a concise summary on it',\n",
       " 'page': <Page url='https://arxiv.org/pdf/1706.03762'>,\n",
       " 'image': '/9j/4AAQSkZJRgABAQAAAQABAAD/2wBDAKBueIx4ZKCMgoy0qqC+8P//8Nzc8P//////////////////////////////////////////////////////////wgALCACpASwBAREA/8QAFgABAQEAAAAAAAAAAAAAAAAAAAEC/9oACAEBAAAAAcgoARQAAJrWJrYAZyAAAmtYmtpYWVnIAACLGtoBWcgAAJblrYAZyAAAluWtoWWVnIAACLGtoLFZyAAAluWthKGcgAAJblrYShnIAACLGtoBWcgAAJbFpApIAAAAAAAAAAAAAAAAAAAAAAAAAAAAAAAAAAAAAAAAAAAAAAAAAAAAAAAAAAAAAAAAAAAAAAAAD//EABsQAAIDAQEBAAAAAAAAAAAAAAERADBAEFCA/9oACAEBAAEFAvHHDwWHMOHgsOd9Fh1Cw6hYdQsOoWHULDqFh1uOOOOOOOOOP64//8QAFBABAAAAAAAAAAAAAAAAAAAAkP/aAAgBAQAGPwJRP//EACAQAAEEAgIDAQAAAAAAAAAAAAEAEBExUFEhgSAwQID/2gAIAQEAAT8h8oOlB0oOlB0oOlB0oOlB0oOlB0oOvns1mtgt2s1sFBhSR5az8rtdrtdrtc/TDG2tgoY36UtP1Ye2Ci2N4RDFrYKFGFQpcGPYAAmf1v8A/9oACAEBAAAAEEQAYAAAcAAAAAvLoAAAHzGAAAA8AAAAAPOoAAAFz2AAAA8EAAAAHBAAAAHyCAAACBfYAAAAAAAAAAAAAAAAAAAAAAAAAAAAAAAAAAAAAAAAAAAAAAAAAAAAAAAAAAAAAAAAAAAAAAAAD//EACUQAAIBAgYDAAMBAAAAAAAAAAABESExECBAUWFxQZHhMIHwgP/aAAgBAQABPxAptkSbsmcg5ByDkHIOQcg5ByDkHIIaumLSqm0rwQtkLFIi91+SxaXxBc6Jw0XusalSpJUqVxsWmY0o/mBm0sRe6wfBG5evpVeHr6Tx/v2Tw9fSeHr6KXZPX0jcvX0U+XhYtNfhcEXussEEZbFpr8Lgi99CthNRORsTnBNMCthYtMlNiWw1DEXuhWwbrZCH0ieCg30J9Y2LT3kuCL30LI+iux+sti0zQ6krcqYi90LLXjNYtMkuDuNQ4EXvoVsHfMr42LSwUOToOrkRMZHZkdho/DIbM6MhsyGzOjEmzI7Edimp/rf/2Q==',\n",
       " 'bboxes': [],\n",
       " 'action': {'action': 'Wait', 'args': None}}"
      ]
     },
     "execution_count": 118,
     "metadata": {},
     "output_type": "execute_result"
    }
   ],
   "source": [
    "result"
   ]
  },
  {
   "cell_type": "markdown",
   "metadata": {},
   "source": [
    "# Tools\n",
    "1. Click (at labelled box)\n",
    "2. Type\n",
    "3. Scroll\n",
    "4. Wait\n",
    "5. Go back\n",
    "6. Go to search engine (Google)\n",
    "\n"
   ]
  },
  {
   "cell_type": "markdown",
   "metadata": {},
   "source": []
  },
  {
   "cell_type": "code",
   "execution_count": 98,
   "metadata": {},
   "outputs": [
    {
     "data": {
      "text/plain": [
       "'6'"
      ]
     },
     "execution_count": 98,
     "metadata": {},
     "output_type": "execute_result"
    }
   ],
   "source": [
    "result[\"action\"][\"action\"].split(\"[\")[1].split(\"]\")[0]"
   ]
  },
  {
   "cell_type": "code",
   "execution_count": 104,
   "metadata": {},
   "outputs": [
    {
     "data": {
      "text/plain": [
       "{'action': 'Type [6]', 'args': 'Attention is all you need paper'}"
      ]
     },
     "execution_count": 104,
     "metadata": {},
     "output_type": "execute_result"
    }
   ],
   "source": [
    "result[\"action\"]\n"
   ]
  },
  {
   "cell_type": "markdown",
   "metadata": {},
   "source": [
    "### Click"
   ]
  },
  {
   "cell_type": "code",
   "execution_count": 100,
   "metadata": {},
   "outputs": [
    {
     "data": {
      "text/plain": [
       "'clicked on 6'"
      ]
     },
     "execution_count": 100,
     "metadata": {},
     "output_type": "execute_result"
    }
   ],
   "source": [
    "async def click(state: AgentState):\n",
    "    page = state[\"page\"]\n",
    "    action = state[\"action\"]\n",
    "    bbox_id = int(action[\"action\"].split(\"[\")[1].split(\"]\")[0])\n",
    "    if bbox_id not in [bbox[\"id\"] for bbox in state[\"bboxes\"]]:\n",
    "        return {\"action\": \"retry\", \"args\": f\"Could not find bbox with id {bbox_id}\"}\n",
    "    bbox = state[\"bboxes\"][bbox_id]\n",
    "    await page.mouse.click(bbox[\"x\"], bbox[\"y\"])\n",
    "    return f\"clicked on {bbox_id}\"\n",
    "\n",
    "result = await click(result)\n",
    "result\n",
    "    "
   ]
  },
  {
   "cell_type": "markdown",
   "metadata": {},
   "source": [
    "### Type\n"
   ]
  },
  {
   "cell_type": "code",
   "execution_count": 115,
   "metadata": {},
   "outputs": [
    {
     "data": {
      "text/plain": [
       "'typed Attention is all you need paper into 6'"
      ]
     },
     "execution_count": 115,
     "metadata": {},
     "output_type": "execute_result"
    }
   ],
   "source": [
    "import platform\n",
    "\n",
    "async def type(state: AgentState):\n",
    "    page = state[\"page\"]\n",
    "    action = state[\"action\"]\n",
    "    bbox_id = int(action[\"action\"].split(\"[\")[1].split(\"]\")[0])\n",
    "    if bbox_id not in [bbox[\"id\"] for bbox in state[\"bboxes\"]]:\n",
    "        return {\"action\": \"retry\", \"args\": f\"Could not find bbox with id {bbox_id}\"}\n",
    "    bbox = state[\"bboxes\"][bbox_id]\n",
    "    await page.mouse.click(bbox[\"x\"], bbox[\"y\"])\n",
    "    select_all = \"Meta+A\" if platform.system() == \"Darwin\" else \"Control+A\"\n",
    "    await page.keyboard.press(select_all)\n",
    "    await page.keyboard.press(\"Backspace\")\n",
    "    await page.keyboard.type(action[\"args\"])\n",
    "    return f\"typed {action['args']} into {bbox_id}\"\n",
    "\n",
    "result = await type(result)\n",
    "result"
   ]
  }
 ],
 "metadata": {
  "kernelspec": {
   "display_name": "ven",
   "language": "python",
   "name": "python3"
  },
  "language_info": {
   "codemirror_mode": {
    "name": "ipython",
    "version": 3
   },
   "file_extension": ".py",
   "mimetype": "text/x-python",
   "name": "python",
   "nbconvert_exporter": "python",
   "pygments_lexer": "ipython3",
   "version": "3.12.7"
  }
 },
 "nbformat": 4,
 "nbformat_minor": 2
}
